{
 "cells": [
  {
   "cell_type": "code",
   "execution_count": null,
   "id": "a3ebb61d-177e-417f-8b91-8021faf19f6d",
   "metadata": {},
   "outputs": [],
   "source": [
    "import numpy as np\n",
    "import pandas as pd\n",
    "import plotly.express as px\n",
    "import plotly.io as pio\n",
    "\n",
    "pd.options.plotting.backend = \"plotly\"\n",
    "pio.templates.default = \"plotly_white\"\n",
    "\n",
    "df = pd.read_csv(\"https://raw.githubusercontent.com/guebin/DV2023/main/posts/NYCTaxi.csv\")\n",
    "df.columns\n",
    "\n",
    "df_feature = df.assign(\n",
    "    log_trip_duration = np.log(df.trip_duration),\n",
    "    pickup_datetime = df.pickup_datetime.apply(pd.to_datetime),\n",
    "    dropoff_datetime = df.dropoff_datetime.apply(pd.to_datetime),\n",
    "    dist = np.sqrt((df.pickup_latitude-df.dropoff_latitude)**2 + (df.pickup_longitude-df.dropoff_longitude)**2),\n",
    "    #---#\n",
    "    vendor_id = df.vendor_id.map({1:'A',2:'B'})\n",
    ").assign(\n",
    "    pickup_hour = lambda df: df.pickup_datetime.dt.hour,\n",
    "    dropoff_hour = lambda df: df.dropoff_datetime.dt.hour,\n",
    "    dayofweek = lambda df: df.pickup_datetime.dt.dayofweek,\n",
    "    speed = lambda df: df.dist/df.trip_duration,\n",
    ")\n",
    "\n",
    "\n",
    "\n",
    "fig1 = px.scatter_mapbox(\n",
    "    data_frame = df_feature,\n",
    "    lat = 'pickup_latitude',\n",
    "    lon = 'pickup_longitude',\n",
    "    center = {'lat':40.7322, 'lon':-73.9052},\n",
    "    #---#\n",
    "    mapbox_style = 'carto-positron',\n",
    "    zoom=10,\n",
    "    width=750,\n",
    "    height=600\n",
    ")\n",
    "fig1.update_traces(\n",
    "    marker = {\n",
    "        'size':2, \n",
    "    }\n",
    ")\n",
    "\n",
    "fig2 = px.density_mapbox(\n",
    "    data_frame = df_feature,\n",
    "    lat = 'pickup_latitude',\n",
    "    lon = 'pickup_longitude',\n",
    "    radius=1,\n",
    "    center = {'lat':40.7322, 'lon':-73.9052},\n",
    "    #---#\n",
    "    mapbox_style = 'carto-positron',\n",
    "    zoom=10,\n",
    "    width=750,\n",
    "    height=600\n",
    ")\n",
    "\n",
    "\n",
    "        'size':3, \n",
    "    }\n",
    ")\n",
    "\n"
   ]
  },
  {
   "cell_type": "code",
   "execution_count": null,
   "id": "436d665f-d153-4aec-a5ae-596a0d71dec3",
   "metadata": {},
   "outputs": [],
   "source": [
    "fig1.show(config={'scrollZoom':False})"
   ]
  },
  {
   "cell_type": "code",
   "execution_count": null,
   "id": "cdfb3947-262a-423a-a73f-62ae1a7914cb",
   "metadata": {},
   "outputs": [],
   "source": [
    "fig2.show(config={'scrollZoom':False})"
   ]
  },
  {
   "cell_type": "code",
   "execution_count": null,
   "id": "27a58e70-c2f1-43ed-841b-b3a5a6829463",
   "metadata": {},
   "outputs": [],
   "source": [
    "fig3.show(config={'scrollZoom':False})\n"
   ]
  },
  {
   "cell_type": "code",
   "execution_count": null,
   "id": "684f26e7-7f8a-4a3e-9fbf-a04e1c8e5792",
   "metadata": {},
   "outputs": [],
   "source": []
  },
  {
   "cell_type": "code",
   "execution_count": null,
   "id": "129fecbf-3f47-4393-a026-445658dae482",
   "metadata": {},
   "outputs": [],
   "source": []
  }
 ],
 "metadata": {
  "kernelspec": {
   "display_name": "Python 3 (ipykernel)",
   "language": "python",
   "name": "python3"
  },
  "language_info": {
   "codemirror_mode": {
    "name": "ipython",
    "version": 3
   },
   "file_extension": ".py",
   "mimetype": "text/x-python",
   "name": "python",
   "nbconvert_exporter": "python",
   "pygments_lexer": "ipython3",
   "version": "3.10.13"
  }
 },
 "nbformat": 4,
 "nbformat_minor": 5
}
